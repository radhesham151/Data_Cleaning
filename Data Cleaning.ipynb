{
 "cells": [
  {
   "cell_type": "markdown",
   "id": "234e9edb",
   "metadata": {},
   "source": [
    "### Cleaning a row dataset into useful & meaningful"
   ]
  },
  {
   "cell_type": "code",
   "execution_count": 1,
   "id": "7217f947",
   "metadata": {},
   "outputs": [],
   "source": [
    "import pandas as pd\n",
    "import numpy as np\n",
    "import matplotlib.pyplot as plt"
   ]
  },
  {
   "cell_type": "code",
   "execution_count": 2,
   "id": "dc912f16",
   "metadata": {},
   "outputs": [
    {
     "data": {
      "text/html": [
       "<div>\n",
       "<style scoped>\n",
       "    .dataframe tbody tr th:only-of-type {\n",
       "        vertical-align: middle;\n",
       "    }\n",
       "\n",
       "    .dataframe tbody tr th {\n",
       "        vertical-align: top;\n",
       "    }\n",
       "\n",
       "    .dataframe thead th {\n",
       "        text-align: right;\n",
       "    }\n",
       "</style>\n",
       "<table border=\"1\" class=\"dataframe\">\n",
       "  <thead>\n",
       "    <tr style=\"text-align: right;\">\n",
       "      <th></th>\n",
       "      <th>Name</th>\n",
       "      <th>Domain</th>\n",
       "      <th>Age</th>\n",
       "      <th>Location</th>\n",
       "      <th>Salary</th>\n",
       "      <th>Exp</th>\n",
       "    </tr>\n",
       "  </thead>\n",
       "  <tbody>\n",
       "    <tr>\n",
       "      <th>0</th>\n",
       "      <td>Mike</td>\n",
       "      <td>Data science*%$</td>\n",
       "      <td>34 Yearrs</td>\n",
       "      <td>Mmbail</td>\n",
       "      <td>5000$</td>\n",
       "      <td>2+</td>\n",
       "    </tr>\n",
       "    <tr>\n",
       "      <th>1</th>\n",
       "      <td>Teddy^^</td>\n",
       "      <td>Testing</td>\n",
       "      <td>56yr</td>\n",
       "      <td>Banglore</td>\n",
       "      <td>10%000</td>\n",
       "      <td>&lt;3</td>\n",
       "    </tr>\n",
       "    <tr>\n",
       "      <th>2</th>\n",
       "      <td>Umar#r</td>\n",
       "      <td>Anal&amp;&amp;lyst</td>\n",
       "      <td>NaN</td>\n",
       "      <td>NaN</td>\n",
       "      <td>20000rs</td>\n",
       "      <td>4&gt; yrs</td>\n",
       "    </tr>\n",
       "    <tr>\n",
       "      <th>3</th>\n",
       "      <td>jane</td>\n",
       "      <td>Statistics</td>\n",
       "      <td>NaN</td>\n",
       "      <td>delhi</td>\n",
       "      <td>30000+</td>\n",
       "      <td>NaN</td>\n",
       "    </tr>\n",
       "    <tr>\n",
       "      <th>4</th>\n",
       "      <td>Uttam*</td>\n",
       "      <td>NLP</td>\n",
       "      <td>64-yr</td>\n",
       "      <td>pune</td>\n",
       "      <td>45000/</td>\n",
       "      <td>5+ years</td>\n",
       "    </tr>\n",
       "    <tr>\n",
       "      <th>5</th>\n",
       "      <td>kim</td>\n",
       "      <td>NaN</td>\n",
       "      <td>55yr</td>\n",
       "      <td>NaN</td>\n",
       "      <td>10lpa</td>\n",
       "      <td>10+</td>\n",
       "    </tr>\n",
       "  </tbody>\n",
       "</table>\n",
       "</div>"
      ],
      "text/plain": [
       "              Name           Domain        Age   Location   Salary       Exp\n",
       "0             Mike  Data science*%$  34 Yearrs     Mmbail    5000$        2+\n",
       "1          Teddy^^          Testing       56yr   Banglore   10%000        <3\n",
       "2           Umar#r       Anal&&lyst        NaN        NaN  20000rs    4> yrs\n",
       "3             jane       Statistics        NaN      delhi   30000+       NaN\n",
       "4           Uttam*              NLP      64-yr       pune   45000/  5+ years\n",
       "5              kim              NaN       55yr        NaN    10lpa       10+"
      ]
     },
     "execution_count": 2,
     "metadata": {},
     "output_type": "execute_result"
    }
   ],
   "source": [
    "\n",
    "emp = pd.read_excel(\"D:\\\\Dataset\\\\EDA.xlsx\")\n",
    "emp"
   ]
  },
  {
   "cell_type": "code",
   "execution_count": 3,
   "id": "ce797c42",
   "metadata": {},
   "outputs": [
    {
     "name": "stdout",
     "output_type": "stream",
     "text": [
      "<class 'pandas.core.frame.DataFrame'>\n",
      "RangeIndex: 6 entries, 0 to 5\n",
      "Data columns (total 6 columns):\n",
      " #   Column    Non-Null Count  Dtype \n",
      "---  ------    --------------  ----- \n",
      " 0   Name      6 non-null      object\n",
      " 1   Domain    5 non-null      object\n",
      " 2   Age       4 non-null      object\n",
      " 3   Location  4 non-null      object\n",
      " 4   Salary    6 non-null      object\n",
      " 5   Exp       5 non-null      object\n",
      "dtypes: object(6)\n",
      "memory usage: 420.0+ bytes\n"
     ]
    }
   ],
   "source": [
    "emp.info()"
   ]
  },
  {
   "cell_type": "code",
   "execution_count": 4,
   "id": "4e8766e1",
   "metadata": {},
   "outputs": [
    {
     "data": {
      "text/html": [
       "<div>\n",
       "<style scoped>\n",
       "    .dataframe tbody tr th:only-of-type {\n",
       "        vertical-align: middle;\n",
       "    }\n",
       "\n",
       "    .dataframe tbody tr th {\n",
       "        vertical-align: top;\n",
       "    }\n",
       "\n",
       "    .dataframe thead th {\n",
       "        text-align: right;\n",
       "    }\n",
       "</style>\n",
       "<table border=\"1\" class=\"dataframe\">\n",
       "  <thead>\n",
       "    <tr style=\"text-align: right;\">\n",
       "      <th></th>\n",
       "      <th>Name</th>\n",
       "      <th>Domain</th>\n",
       "      <th>Age</th>\n",
       "      <th>Location</th>\n",
       "      <th>Salary</th>\n",
       "      <th>Exp</th>\n",
       "    </tr>\n",
       "  </thead>\n",
       "  <tbody>\n",
       "    <tr>\n",
       "      <th>count</th>\n",
       "      <td>6</td>\n",
       "      <td>5</td>\n",
       "      <td>4</td>\n",
       "      <td>4</td>\n",
       "      <td>6</td>\n",
       "      <td>5</td>\n",
       "    </tr>\n",
       "    <tr>\n",
       "      <th>unique</th>\n",
       "      <td>6</td>\n",
       "      <td>5</td>\n",
       "      <td>4</td>\n",
       "      <td>4</td>\n",
       "      <td>6</td>\n",
       "      <td>5</td>\n",
       "    </tr>\n",
       "    <tr>\n",
       "      <th>top</th>\n",
       "      <td>Mike</td>\n",
       "      <td>Data science*%$</td>\n",
       "      <td>34 Yearrs</td>\n",
       "      <td>Mmbail</td>\n",
       "      <td>5000$</td>\n",
       "      <td>2+</td>\n",
       "    </tr>\n",
       "    <tr>\n",
       "      <th>freq</th>\n",
       "      <td>1</td>\n",
       "      <td>1</td>\n",
       "      <td>1</td>\n",
       "      <td>1</td>\n",
       "      <td>1</td>\n",
       "      <td>1</td>\n",
       "    </tr>\n",
       "  </tbody>\n",
       "</table>\n",
       "</div>"
      ],
      "text/plain": [
       "        Name           Domain        Age Location Salary Exp\n",
       "count      6                5          4        4      6   5\n",
       "unique     6                5          4        4      6   5\n",
       "top     Mike  Data science*%$  34 Yearrs   Mmbail  5000$  2+\n",
       "freq       1                1          1        1      1   1"
      ]
     },
     "execution_count": 4,
     "metadata": {},
     "output_type": "execute_result"
    }
   ],
   "source": [
    "emp.describe()"
   ]
  },
  {
   "cell_type": "code",
   "execution_count": 5,
   "id": "d0530299",
   "metadata": {},
   "outputs": [
    {
     "data": {
      "text/plain": [
       "Name        0\n",
       "Domain      1\n",
       "Age         2\n",
       "Location    2\n",
       "Salary      0\n",
       "Exp         1\n",
       "dtype: int64"
      ]
     },
     "execution_count": 5,
     "metadata": {},
     "output_type": "execute_result"
    }
   ],
   "source": [
    "emp.isnull().sum()"
   ]
  },
  {
   "cell_type": "code",
   "execution_count": 6,
   "id": "ba6d1e47",
   "metadata": {},
   "outputs": [
    {
     "data": {
      "text/plain": [
       "6"
      ]
     },
     "execution_count": 6,
     "metadata": {},
     "output_type": "execute_result"
    }
   ],
   "source": [
    "emp.isnull().sum().sum()"
   ]
  },
  {
   "cell_type": "code",
   "execution_count": 7,
   "id": "eefcef9f",
   "metadata": {},
   "outputs": [
    {
     "data": {
      "text/plain": [
       "0               Mike\n",
       "1            Teddy^^\n",
       "2             Umar#r\n",
       "3               jane\n",
       "4             Uttam*\n",
       "5                kim\n",
       "Name: Name, dtype: object"
      ]
     },
     "execution_count": 7,
     "metadata": {},
     "output_type": "execute_result"
    }
   ],
   "source": [
    "emp['Name']"
   ]
  },
  {
   "cell_type": "code",
   "execution_count": 8,
   "id": "e320dd2b",
   "metadata": {},
   "outputs": [
    {
     "data": {
      "text/plain": [
       "6"
      ]
     },
     "execution_count": 8,
     "metadata": {},
     "output_type": "execute_result"
    }
   ],
   "source": [
    "len(emp)"
   ]
  },
  {
   "cell_type": "code",
   "execution_count": 9,
   "id": "3f51dd50",
   "metadata": {},
   "outputs": [
    {
     "data": {
      "text/plain": [
       "Index(['Name', 'Domain', 'Age', 'Location', 'Salary', 'Exp'], dtype='object')"
      ]
     },
     "execution_count": 9,
     "metadata": {},
     "output_type": "execute_result"
    }
   ],
   "source": [
    "emp.columns"
   ]
  },
  {
   "cell_type": "code",
   "execution_count": 10,
   "id": "6d951819",
   "metadata": {},
   "outputs": [
    {
     "data": {
      "text/plain": [
       "6"
      ]
     },
     "execution_count": 10,
     "metadata": {},
     "output_type": "execute_result"
    }
   ],
   "source": [
    "len(emp.columns)"
   ]
  },
  {
   "cell_type": "code",
   "execution_count": 11,
   "id": "6112f0a3",
   "metadata": {},
   "outputs": [
    {
     "data": {
      "text/plain": [
       "(6, 6)"
      ]
     },
     "execution_count": 11,
     "metadata": {},
     "output_type": "execute_result"
    }
   ],
   "source": [
    "emp.shape"
   ]
  },
  {
   "cell_type": "code",
   "execution_count": 12,
   "id": "c41ce8d6",
   "metadata": {},
   "outputs": [
    {
     "name": "stdout",
     "output_type": "stream",
     "text": [
      "<class 'pandas.core.frame.DataFrame'>\n",
      "RangeIndex: 6 entries, 0 to 5\n",
      "Data columns (total 6 columns):\n",
      " #   Column    Non-Null Count  Dtype \n",
      "---  ------    --------------  ----- \n",
      " 0   Name      6 non-null      object\n",
      " 1   Domain    5 non-null      object\n",
      " 2   Age       4 non-null      object\n",
      " 3   Location  4 non-null      object\n",
      " 4   Salary    6 non-null      object\n",
      " 5   Exp       5 non-null      object\n",
      "dtypes: object(6)\n",
      "memory usage: 420.0+ bytes\n"
     ]
    }
   ],
   "source": [
    "emp.info()"
   ]
  },
  {
   "cell_type": "code",
   "execution_count": 13,
   "id": "a3ab842f",
   "metadata": {},
   "outputs": [
    {
     "data": {
      "text/html": [
       "<div>\n",
       "<style scoped>\n",
       "    .dataframe tbody tr th:only-of-type {\n",
       "        vertical-align: middle;\n",
       "    }\n",
       "\n",
       "    .dataframe tbody tr th {\n",
       "        vertical-align: top;\n",
       "    }\n",
       "\n",
       "    .dataframe thead th {\n",
       "        text-align: right;\n",
       "    }\n",
       "</style>\n",
       "<table border=\"1\" class=\"dataframe\">\n",
       "  <thead>\n",
       "    <tr style=\"text-align: right;\">\n",
       "      <th></th>\n",
       "      <th>Name</th>\n",
       "      <th>Domain</th>\n",
       "      <th>Age</th>\n",
       "      <th>Location</th>\n",
       "      <th>Salary</th>\n",
       "      <th>Exp</th>\n",
       "    </tr>\n",
       "  </thead>\n",
       "  <tbody>\n",
       "    <tr>\n",
       "      <th>0</th>\n",
       "      <td>Mike</td>\n",
       "      <td>Data science*%$</td>\n",
       "      <td>34 Yearrs</td>\n",
       "      <td>Mmbail</td>\n",
       "      <td>5000$</td>\n",
       "      <td>2+</td>\n",
       "    </tr>\n",
       "    <tr>\n",
       "      <th>1</th>\n",
       "      <td>Teddy^^</td>\n",
       "      <td>Testing</td>\n",
       "      <td>56yr</td>\n",
       "      <td>Banglore</td>\n",
       "      <td>10%000</td>\n",
       "      <td>&lt;3</td>\n",
       "    </tr>\n",
       "    <tr>\n",
       "      <th>2</th>\n",
       "      <td>Umar#r</td>\n",
       "      <td>Anal&amp;&amp;lyst</td>\n",
       "      <td>NaN</td>\n",
       "      <td>NaN</td>\n",
       "      <td>20000rs</td>\n",
       "      <td>4&gt; yrs</td>\n",
       "    </tr>\n",
       "    <tr>\n",
       "      <th>3</th>\n",
       "      <td>jane</td>\n",
       "      <td>Statistics</td>\n",
       "      <td>NaN</td>\n",
       "      <td>delhi</td>\n",
       "      <td>30000+</td>\n",
       "      <td>NaN</td>\n",
       "    </tr>\n",
       "    <tr>\n",
       "      <th>4</th>\n",
       "      <td>Uttam*</td>\n",
       "      <td>NLP</td>\n",
       "      <td>64-yr</td>\n",
       "      <td>pune</td>\n",
       "      <td>45000/</td>\n",
       "      <td>5+ years</td>\n",
       "    </tr>\n",
       "    <tr>\n",
       "      <th>5</th>\n",
       "      <td>kim</td>\n",
       "      <td>NaN</td>\n",
       "      <td>55yr</td>\n",
       "      <td>NaN</td>\n",
       "      <td>10lpa</td>\n",
       "      <td>10+</td>\n",
       "    </tr>\n",
       "  </tbody>\n",
       "</table>\n",
       "</div>"
      ],
      "text/plain": [
       "              Name           Domain        Age   Location   Salary       Exp\n",
       "0             Mike  Data science*%$  34 Yearrs     Mmbail    5000$        2+\n",
       "1          Teddy^^          Testing       56yr   Banglore   10%000        <3\n",
       "2           Umar#r       Anal&&lyst        NaN        NaN  20000rs    4> yrs\n",
       "3             jane       Statistics        NaN      delhi   30000+       NaN\n",
       "4           Uttam*              NLP      64-yr       pune   45000/  5+ years\n",
       "5              kim              NaN       55yr        NaN    10lpa       10+"
      ]
     },
     "execution_count": 13,
     "metadata": {},
     "output_type": "execute_result"
    }
   ],
   "source": [
    "emp"
   ]
  },
  {
   "cell_type": "code",
   "execution_count": 14,
   "id": "59912545",
   "metadata": {},
   "outputs": [
    {
     "data": {
      "text/plain": [
       "0               Mike\n",
       "1            Teddy^^\n",
       "2             Umar#r\n",
       "3               jane\n",
       "4             Uttam*\n",
       "5                kim\n",
       "Name: Name, dtype: object"
      ]
     },
     "execution_count": 14,
     "metadata": {},
     "output_type": "execute_result"
    }
   ],
   "source": [
    "emp['Name']"
   ]
  },
  {
   "cell_type": "code",
   "execution_count": 15,
   "id": "4b102a83",
   "metadata": {},
   "outputs": [
    {
     "data": {
      "text/plain": [
       "0    Data science*%$\n",
       "1            Testing\n",
       "2         Anal&&lyst\n",
       "3         Statistics\n",
       "4                NLP\n",
       "5                NaN\n",
       "Name: Domain, dtype: object"
      ]
     },
     "execution_count": 15,
     "metadata": {},
     "output_type": "execute_result"
    }
   ],
   "source": [
    "emp['Domain']"
   ]
  },
  {
   "cell_type": "code",
   "execution_count": 16,
   "id": "4c3f1503",
   "metadata": {},
   "outputs": [
    {
     "data": {
      "text/plain": [
       "0    34 Yearrs\n",
       "1         56yr\n",
       "2          NaN\n",
       "3          NaN\n",
       "4        64-yr\n",
       "5         55yr\n",
       "Name: Age, dtype: object"
      ]
     },
     "execution_count": 16,
     "metadata": {},
     "output_type": "execute_result"
    }
   ],
   "source": [
    "emp['Age']"
   ]
  },
  {
   "cell_type": "code",
   "execution_count": 17,
   "id": "56078158",
   "metadata": {},
   "outputs": [
    {
     "data": {
      "text/plain": [
       "0      5000$\n",
       "1     10%000\n",
       "2    20000rs\n",
       "3     30000+\n",
       "4     45000/\n",
       "5      10lpa\n",
       "Name: Salary, dtype: object"
      ]
     },
     "execution_count": 17,
     "metadata": {},
     "output_type": "execute_result"
    }
   ],
   "source": [
    "emp['Salary']"
   ]
  },
  {
   "cell_type": "code",
   "execution_count": 18,
   "id": "896042a2",
   "metadata": {},
   "outputs": [
    {
     "data": {
      "text/plain": [
       "0          2+\n",
       "1          <3\n",
       "2      4> yrs\n",
       "3         NaN\n",
       "4    5+ years\n",
       "5         10+\n",
       "Name: Exp, dtype: object"
      ]
     },
     "execution_count": 18,
     "metadata": {},
     "output_type": "execute_result"
    }
   ],
   "source": [
    "emp['Exp']"
   ]
  },
  {
   "cell_type": "markdown",
   "id": "42c78334",
   "metadata": {},
   "source": [
    "# Data Cleansing"
   ]
  },
  {
   "cell_type": "code",
   "execution_count": 19,
   "id": "3ca0aee8",
   "metadata": {},
   "outputs": [
    {
     "name": "stderr",
     "output_type": "stream",
     "text": [
      "C:\\Users\\radhe\\AppData\\Local\\Temp\\ipykernel_17056\\2684097443.py:1: FutureWarning: The default value of regex will change from True to False in a future version.\n",
      "  emp['Name']=emp['Name'].str.replace(r'\\W','')\n"
     ]
    }
   ],
   "source": [
    "emp['Name']=emp['Name'].str.replace(r'\\W','')"
   ]
  },
  {
   "cell_type": "code",
   "execution_count": 20,
   "id": "1863f223",
   "metadata": {},
   "outputs": [
    {
     "data": {
      "text/plain": [
       "0     Mike\n",
       "1    Teddy\n",
       "2    Umarr\n",
       "3     jane\n",
       "4    Uttam\n",
       "5      kim\n",
       "Name: Name, dtype: object"
      ]
     },
     "execution_count": 20,
     "metadata": {},
     "output_type": "execute_result"
    }
   ],
   "source": [
    "emp['Name']"
   ]
  },
  {
   "cell_type": "code",
   "execution_count": 21,
   "id": "fc346aed",
   "metadata": {},
   "outputs": [
    {
     "data": {
      "text/html": [
       "<div>\n",
       "<style scoped>\n",
       "    .dataframe tbody tr th:only-of-type {\n",
       "        vertical-align: middle;\n",
       "    }\n",
       "\n",
       "    .dataframe tbody tr th {\n",
       "        vertical-align: top;\n",
       "    }\n",
       "\n",
       "    .dataframe thead th {\n",
       "        text-align: right;\n",
       "    }\n",
       "</style>\n",
       "<table border=\"1\" class=\"dataframe\">\n",
       "  <thead>\n",
       "    <tr style=\"text-align: right;\">\n",
       "      <th></th>\n",
       "      <th>Name</th>\n",
       "      <th>Domain</th>\n",
       "      <th>Exp</th>\n",
       "    </tr>\n",
       "  </thead>\n",
       "  <tbody>\n",
       "    <tr>\n",
       "      <th>0</th>\n",
       "      <td>Mike</td>\n",
       "      <td>Data science*%$</td>\n",
       "      <td>2+</td>\n",
       "    </tr>\n",
       "    <tr>\n",
       "      <th>1</th>\n",
       "      <td>Teddy</td>\n",
       "      <td>Testing</td>\n",
       "      <td>&lt;3</td>\n",
       "    </tr>\n",
       "    <tr>\n",
       "      <th>2</th>\n",
       "      <td>Umarr</td>\n",
       "      <td>Anal&amp;&amp;lyst</td>\n",
       "      <td>4&gt; yrs</td>\n",
       "    </tr>\n",
       "    <tr>\n",
       "      <th>3</th>\n",
       "      <td>jane</td>\n",
       "      <td>Statistics</td>\n",
       "      <td>NaN</td>\n",
       "    </tr>\n",
       "    <tr>\n",
       "      <th>4</th>\n",
       "      <td>Uttam</td>\n",
       "      <td>NLP</td>\n",
       "      <td>5+ years</td>\n",
       "    </tr>\n",
       "    <tr>\n",
       "      <th>5</th>\n",
       "      <td>kim</td>\n",
       "      <td>NaN</td>\n",
       "      <td>10+</td>\n",
       "    </tr>\n",
       "  </tbody>\n",
       "</table>\n",
       "</div>"
      ],
      "text/plain": [
       "    Name           Domain       Exp\n",
       "0   Mike  Data science*%$        2+\n",
       "1  Teddy          Testing        <3\n",
       "2  Umarr       Anal&&lyst    4> yrs\n",
       "3   jane       Statistics       NaN\n",
       "4  Uttam              NLP  5+ years\n",
       "5    kim              NaN       10+"
      ]
     },
     "execution_count": 21,
     "metadata": {},
     "output_type": "execute_result"
    }
   ],
   "source": [
    "emp[['Name','Domain','Exp']]"
   ]
  },
  {
   "cell_type": "code",
   "execution_count": 22,
   "id": "451e89c1",
   "metadata": {},
   "outputs": [],
   "source": [
    "#emp['Name','Domain','Exp'] ---not working"
   ]
  },
  {
   "cell_type": "code",
   "execution_count": 23,
   "id": "9d15054d",
   "metadata": {},
   "outputs": [
    {
     "data": {
      "text/html": [
       "<div>\n",
       "<style scoped>\n",
       "    .dataframe tbody tr th:only-of-type {\n",
       "        vertical-align: middle;\n",
       "    }\n",
       "\n",
       "    .dataframe tbody tr th {\n",
       "        vertical-align: top;\n",
       "    }\n",
       "\n",
       "    .dataframe thead th {\n",
       "        text-align: right;\n",
       "    }\n",
       "</style>\n",
       "<table border=\"1\" class=\"dataframe\">\n",
       "  <thead>\n",
       "    <tr style=\"text-align: right;\">\n",
       "      <th></th>\n",
       "      <th>Name</th>\n",
       "      <th>Domain</th>\n",
       "      <th>Age</th>\n",
       "      <th>Location</th>\n",
       "      <th>Salary</th>\n",
       "      <th>Exp</th>\n",
       "    </tr>\n",
       "  </thead>\n",
       "  <tbody>\n",
       "    <tr>\n",
       "      <th>0</th>\n",
       "      <td>Mike</td>\n",
       "      <td>Data science*%$</td>\n",
       "      <td>34 Yearrs</td>\n",
       "      <td>Mmbail</td>\n",
       "      <td>5000$</td>\n",
       "      <td>2+</td>\n",
       "    </tr>\n",
       "    <tr>\n",
       "      <th>1</th>\n",
       "      <td>Teddy</td>\n",
       "      <td>Testing</td>\n",
       "      <td>56yr</td>\n",
       "      <td>Banglore</td>\n",
       "      <td>10%000</td>\n",
       "      <td>&lt;3</td>\n",
       "    </tr>\n",
       "    <tr>\n",
       "      <th>2</th>\n",
       "      <td>Umarr</td>\n",
       "      <td>Anal&amp;&amp;lyst</td>\n",
       "      <td>NaN</td>\n",
       "      <td>NaN</td>\n",
       "      <td>20000rs</td>\n",
       "      <td>4&gt; yrs</td>\n",
       "    </tr>\n",
       "    <tr>\n",
       "      <th>3</th>\n",
       "      <td>jane</td>\n",
       "      <td>Statistics</td>\n",
       "      <td>NaN</td>\n",
       "      <td>delhi</td>\n",
       "      <td>30000+</td>\n",
       "      <td>NaN</td>\n",
       "    </tr>\n",
       "    <tr>\n",
       "      <th>4</th>\n",
       "      <td>Uttam</td>\n",
       "      <td>NLP</td>\n",
       "      <td>64-yr</td>\n",
       "      <td>pune</td>\n",
       "      <td>45000/</td>\n",
       "      <td>5+ years</td>\n",
       "    </tr>\n",
       "    <tr>\n",
       "      <th>5</th>\n",
       "      <td>kim</td>\n",
       "      <td>NaN</td>\n",
       "      <td>55yr</td>\n",
       "      <td>NaN</td>\n",
       "      <td>10lpa</td>\n",
       "      <td>10+</td>\n",
       "    </tr>\n",
       "  </tbody>\n",
       "</table>\n",
       "</div>"
      ],
      "text/plain": [
       "    Name           Domain        Age   Location   Salary       Exp\n",
       "0   Mike  Data science*%$  34 Yearrs     Mmbail    5000$        2+\n",
       "1  Teddy          Testing       56yr   Banglore   10%000        <3\n",
       "2  Umarr       Anal&&lyst        NaN        NaN  20000rs    4> yrs\n",
       "3   jane       Statistics        NaN      delhi   30000+       NaN\n",
       "4  Uttam              NLP      64-yr       pune   45000/  5+ years\n",
       "5    kim              NaN       55yr        NaN    10lpa       10+"
      ]
     },
     "execution_count": 23,
     "metadata": {},
     "output_type": "execute_result"
    }
   ],
   "source": [
    "emp"
   ]
  },
  {
   "cell_type": "code",
   "execution_count": 24,
   "id": "7713555a",
   "metadata": {},
   "outputs": [
    {
     "name": "stderr",
     "output_type": "stream",
     "text": [
      "C:\\Users\\radhe\\AppData\\Local\\Temp\\ipykernel_17056\\2647626973.py:2: FutureWarning: The default value of regex will change from True to False in a future version.\n",
      "  emp['Name']=emp['Name'].str.replace(r'\\W','')\n"
     ]
    }
   ],
   "source": [
    "#  reges(,^%#) are known as regex\n",
    "emp['Name']=emp['Name'].str.replace(r'\\W','')"
   ]
  },
  {
   "cell_type": "code",
   "execution_count": 25,
   "id": "561fd512",
   "metadata": {},
   "outputs": [
    {
     "data": {
      "text/html": [
       "<div>\n",
       "<style scoped>\n",
       "    .dataframe tbody tr th:only-of-type {\n",
       "        vertical-align: middle;\n",
       "    }\n",
       "\n",
       "    .dataframe tbody tr th {\n",
       "        vertical-align: top;\n",
       "    }\n",
       "\n",
       "    .dataframe thead th {\n",
       "        text-align: right;\n",
       "    }\n",
       "</style>\n",
       "<table border=\"1\" class=\"dataframe\">\n",
       "  <thead>\n",
       "    <tr style=\"text-align: right;\">\n",
       "      <th></th>\n",
       "      <th>Name</th>\n",
       "      <th>Domain</th>\n",
       "      <th>Age</th>\n",
       "      <th>Location</th>\n",
       "      <th>Salary</th>\n",
       "      <th>Exp</th>\n",
       "    </tr>\n",
       "  </thead>\n",
       "  <tbody>\n",
       "    <tr>\n",
       "      <th>0</th>\n",
       "      <td>Mike</td>\n",
       "      <td>Data science*%$</td>\n",
       "      <td>34 Yearrs</td>\n",
       "      <td>Mmbail</td>\n",
       "      <td>5000$</td>\n",
       "      <td>2+</td>\n",
       "    </tr>\n",
       "    <tr>\n",
       "      <th>1</th>\n",
       "      <td>Teddy</td>\n",
       "      <td>Testing</td>\n",
       "      <td>56yr</td>\n",
       "      <td>Banglore</td>\n",
       "      <td>10%000</td>\n",
       "      <td>&lt;3</td>\n",
       "    </tr>\n",
       "    <tr>\n",
       "      <th>2</th>\n",
       "      <td>Umarr</td>\n",
       "      <td>Anal&amp;&amp;lyst</td>\n",
       "      <td>NaN</td>\n",
       "      <td>NaN</td>\n",
       "      <td>20000rs</td>\n",
       "      <td>4&gt; yrs</td>\n",
       "    </tr>\n",
       "    <tr>\n",
       "      <th>3</th>\n",
       "      <td>jane</td>\n",
       "      <td>Statistics</td>\n",
       "      <td>NaN</td>\n",
       "      <td>delhi</td>\n",
       "      <td>30000+</td>\n",
       "      <td>NaN</td>\n",
       "    </tr>\n",
       "    <tr>\n",
       "      <th>4</th>\n",
       "      <td>Uttam</td>\n",
       "      <td>NLP</td>\n",
       "      <td>64-yr</td>\n",
       "      <td>pune</td>\n",
       "      <td>45000/</td>\n",
       "      <td>5+ years</td>\n",
       "    </tr>\n",
       "    <tr>\n",
       "      <th>5</th>\n",
       "      <td>kim</td>\n",
       "      <td>NaN</td>\n",
       "      <td>55yr</td>\n",
       "      <td>NaN</td>\n",
       "      <td>10lpa</td>\n",
       "      <td>10+</td>\n",
       "    </tr>\n",
       "  </tbody>\n",
       "</table>\n",
       "</div>"
      ],
      "text/plain": [
       "    Name           Domain        Age   Location   Salary       Exp\n",
       "0   Mike  Data science*%$  34 Yearrs     Mmbail    5000$        2+\n",
       "1  Teddy          Testing       56yr   Banglore   10%000        <3\n",
       "2  Umarr       Anal&&lyst        NaN        NaN  20000rs    4> yrs\n",
       "3   jane       Statistics        NaN      delhi   30000+       NaN\n",
       "4  Uttam              NLP      64-yr       pune   45000/  5+ years\n",
       "5    kim              NaN       55yr        NaN    10lpa       10+"
      ]
     },
     "execution_count": 25,
     "metadata": {},
     "output_type": "execute_result"
    }
   ],
   "source": [
    "emp"
   ]
  },
  {
   "cell_type": "code",
   "execution_count": 26,
   "id": "1348fdf6",
   "metadata": {},
   "outputs": [
    {
     "name": "stderr",
     "output_type": "stream",
     "text": [
      "C:\\Users\\radhe\\AppData\\Local\\Temp\\ipykernel_17056\\2553557837.py:1: FutureWarning: The default value of regex will change from True to False in a future version.\n",
      "  emp['Domain']=emp['Domain'].str.replace(r'\\W','')\n"
     ]
    }
   ],
   "source": [
    "emp['Domain']=emp['Domain'].str.replace(r'\\W','')"
   ]
  },
  {
   "cell_type": "code",
   "execution_count": 27,
   "id": "819e97c0",
   "metadata": {},
   "outputs": [
    {
     "data": {
      "text/plain": [
       "0    Datascience\n",
       "1        Testing\n",
       "2       Anallyst\n",
       "3     Statistics\n",
       "4            NLP\n",
       "5            NaN\n",
       "Name: Domain, dtype: object"
      ]
     },
     "execution_count": 27,
     "metadata": {},
     "output_type": "execute_result"
    }
   ],
   "source": [
    "emp['Domain']"
   ]
  },
  {
   "cell_type": "code",
   "execution_count": 28,
   "id": "8c964ea5",
   "metadata": {},
   "outputs": [
    {
     "name": "stderr",
     "output_type": "stream",
     "text": [
      "C:\\Users\\radhe\\AppData\\Local\\Temp\\ipykernel_17056\\1258434123.py:1: FutureWarning: The default value of regex will change from True to False in a future version.\n",
      "  emp['Age']=emp['Age'].str.replace(r'\\W','')\n"
     ]
    }
   ],
   "source": [
    "emp['Age']=emp['Age'].str.replace(r'\\W','')"
   ]
  },
  {
   "cell_type": "code",
   "execution_count": 29,
   "id": "491b2550",
   "metadata": {},
   "outputs": [
    {
     "data": {
      "text/plain": [
       "0    34Yearrs\n",
       "1        56yr\n",
       "2         NaN\n",
       "3         NaN\n",
       "4        64yr\n",
       "5        55yr\n",
       "Name: Age, dtype: object"
      ]
     },
     "execution_count": 29,
     "metadata": {},
     "output_type": "execute_result"
    }
   ],
   "source": [
    "emp['Age']\n",
    "# only hyphen is removed"
   ]
  },
  {
   "cell_type": "code",
   "execution_count": 30,
   "id": "406d832d",
   "metadata": {},
   "outputs": [],
   "source": [
    "emp['Age']=emp['Age'].str.extract('(\\d+)')"
   ]
  },
  {
   "cell_type": "code",
   "execution_count": 31,
   "id": "c242e85f",
   "metadata": {},
   "outputs": [
    {
     "data": {
      "text/plain": [
       "0     34\n",
       "1     56\n",
       "2    NaN\n",
       "3    NaN\n",
       "4     64\n",
       "5     55\n",
       "Name: Age, dtype: object"
      ]
     },
     "execution_count": 31,
     "metadata": {},
     "output_type": "execute_result"
    }
   ],
   "source": [
    "emp['Age']"
   ]
  },
  {
   "cell_type": "code",
   "execution_count": 32,
   "id": "5b746b6e",
   "metadata": {},
   "outputs": [
    {
     "name": "stderr",
     "output_type": "stream",
     "text": [
      "C:\\Users\\radhe\\AppData\\Local\\Temp\\ipykernel_17056\\3154252769.py:1: FutureWarning: The default value of regex will change from True to False in a future version.\n",
      "  emp['Salary']=emp['Salary'].str.replace(r'\\W','')\n"
     ]
    }
   ],
   "source": [
    "emp['Salary']=emp['Salary'].str.replace(r'\\W','')"
   ]
  },
  {
   "cell_type": "code",
   "execution_count": 33,
   "id": "6f18188e",
   "metadata": {},
   "outputs": [
    {
     "data": {
      "text/plain": [
       "0       5000\n",
       "1      10000\n",
       "2    20000rs\n",
       "3      30000\n",
       "4      45000\n",
       "5      10lpa\n",
       "Name: Salary, dtype: object"
      ]
     },
     "execution_count": 33,
     "metadata": {},
     "output_type": "execute_result"
    }
   ],
   "source": [
    "emp['Salary']"
   ]
  },
  {
   "cell_type": "code",
   "execution_count": 34,
   "id": "d691a70b",
   "metadata": {},
   "outputs": [],
   "source": [
    "emp['Salary']=emp['Salary'].str.extract('(\\d+)')"
   ]
  },
  {
   "cell_type": "code",
   "execution_count": 35,
   "id": "e11a7556",
   "metadata": {},
   "outputs": [
    {
     "data": {
      "text/plain": [
       "0     5000\n",
       "1    10000\n",
       "2    20000\n",
       "3    30000\n",
       "4    45000\n",
       "5       10\n",
       "Name: Salary, dtype: object"
      ]
     },
     "execution_count": 35,
     "metadata": {},
     "output_type": "execute_result"
    }
   ],
   "source": [
    "emp['Salary']"
   ]
  },
  {
   "cell_type": "code",
   "execution_count": 36,
   "id": "f24dbd17",
   "metadata": {},
   "outputs": [
    {
     "data": {
      "text/plain": [
       "0          2+\n",
       "1          <3\n",
       "2      4> yrs\n",
       "3         NaN\n",
       "4    5+ years\n",
       "5         10+\n",
       "Name: Exp, dtype: object"
      ]
     },
     "execution_count": 36,
     "metadata": {},
     "output_type": "execute_result"
    }
   ],
   "source": [
    "emp['Exp']"
   ]
  },
  {
   "cell_type": "code",
   "execution_count": 37,
   "id": "00b72999",
   "metadata": {},
   "outputs": [],
   "source": [
    "emp['Exp']= emp['Exp'].str.extract('(\\d+)')"
   ]
  },
  {
   "cell_type": "code",
   "execution_count": 38,
   "id": "ad1d1b68",
   "metadata": {},
   "outputs": [
    {
     "data": {
      "text/plain": [
       "0      2\n",
       "1      3\n",
       "2      4\n",
       "3    NaN\n",
       "4      5\n",
       "5     10\n",
       "Name: Exp, dtype: object"
      ]
     },
     "execution_count": 38,
     "metadata": {},
     "output_type": "execute_result"
    }
   ],
   "source": [
    "emp['Exp']"
   ]
  },
  {
   "cell_type": "code",
   "execution_count": 39,
   "id": "929eb7ac",
   "metadata": {},
   "outputs": [
    {
     "name": "stderr",
     "output_type": "stream",
     "text": [
      "C:\\Users\\radhe\\AppData\\Local\\Temp\\ipykernel_17056\\1973699693.py:1: FutureWarning: The default value of regex will change from True to False in a future version.\n",
      "  emp['Exp']=emp['Exp'].str.replace(r'\\W','')\n"
     ]
    }
   ],
   "source": [
    "emp['Exp']=emp['Exp'].str.replace(r'\\W','')"
   ]
  },
  {
   "cell_type": "code",
   "execution_count": 40,
   "id": "4946380c",
   "metadata": {},
   "outputs": [
    {
     "data": {
      "text/plain": [
       "0      2\n",
       "1      3\n",
       "2      4\n",
       "3    NaN\n",
       "4      5\n",
       "5     10\n",
       "Name: Exp, dtype: object"
      ]
     },
     "execution_count": 40,
     "metadata": {},
     "output_type": "execute_result"
    }
   ],
   "source": [
    "emp['Exp']"
   ]
  },
  {
   "cell_type": "code",
   "execution_count": 41,
   "id": "2d4731bd",
   "metadata": {},
   "outputs": [
    {
     "data": {
      "text/html": [
       "<div>\n",
       "<style scoped>\n",
       "    .dataframe tbody tr th:only-of-type {\n",
       "        vertical-align: middle;\n",
       "    }\n",
       "\n",
       "    .dataframe tbody tr th {\n",
       "        vertical-align: top;\n",
       "    }\n",
       "\n",
       "    .dataframe thead th {\n",
       "        text-align: right;\n",
       "    }\n",
       "</style>\n",
       "<table border=\"1\" class=\"dataframe\">\n",
       "  <thead>\n",
       "    <tr style=\"text-align: right;\">\n",
       "      <th></th>\n",
       "      <th>Name</th>\n",
       "      <th>Domain</th>\n",
       "      <th>Age</th>\n",
       "      <th>Location</th>\n",
       "      <th>Salary</th>\n",
       "      <th>Exp</th>\n",
       "    </tr>\n",
       "  </thead>\n",
       "  <tbody>\n",
       "    <tr>\n",
       "      <th>0</th>\n",
       "      <td>Mike</td>\n",
       "      <td>Datascience</td>\n",
       "      <td>34</td>\n",
       "      <td>Mmbail</td>\n",
       "      <td>5000</td>\n",
       "      <td>2</td>\n",
       "    </tr>\n",
       "    <tr>\n",
       "      <th>1</th>\n",
       "      <td>Teddy</td>\n",
       "      <td>Testing</td>\n",
       "      <td>56</td>\n",
       "      <td>Banglore</td>\n",
       "      <td>10000</td>\n",
       "      <td>3</td>\n",
       "    </tr>\n",
       "    <tr>\n",
       "      <th>2</th>\n",
       "      <td>Umarr</td>\n",
       "      <td>Anallyst</td>\n",
       "      <td>NaN</td>\n",
       "      <td>NaN</td>\n",
       "      <td>20000</td>\n",
       "      <td>4</td>\n",
       "    </tr>\n",
       "    <tr>\n",
       "      <th>3</th>\n",
       "      <td>jane</td>\n",
       "      <td>Statistics</td>\n",
       "      <td>NaN</td>\n",
       "      <td>delhi</td>\n",
       "      <td>30000</td>\n",
       "      <td>NaN</td>\n",
       "    </tr>\n",
       "    <tr>\n",
       "      <th>4</th>\n",
       "      <td>Uttam</td>\n",
       "      <td>NLP</td>\n",
       "      <td>64</td>\n",
       "      <td>pune</td>\n",
       "      <td>45000</td>\n",
       "      <td>5</td>\n",
       "    </tr>\n",
       "    <tr>\n",
       "      <th>5</th>\n",
       "      <td>kim</td>\n",
       "      <td>NaN</td>\n",
       "      <td>55</td>\n",
       "      <td>NaN</td>\n",
       "      <td>10</td>\n",
       "      <td>10</td>\n",
       "    </tr>\n",
       "  </tbody>\n",
       "</table>\n",
       "</div>"
      ],
      "text/plain": [
       "    Name       Domain  Age   Location Salary  Exp\n",
       "0   Mike  Datascience   34     Mmbail   5000    2\n",
       "1  Teddy      Testing   56   Banglore  10000    3\n",
       "2  Umarr     Anallyst  NaN        NaN  20000    4\n",
       "3   jane   Statistics  NaN      delhi  30000  NaN\n",
       "4  Uttam          NLP   64       pune  45000    5\n",
       "5    kim          NaN   55        NaN     10   10"
      ]
     },
     "execution_count": 41,
     "metadata": {},
     "output_type": "execute_result"
    }
   ],
   "source": [
    "# here converted row dataset into meaningful\n",
    "emp"
   ]
  },
  {
   "cell_type": "code",
   "execution_count": null,
   "id": "f940a985",
   "metadata": {},
   "outputs": [],
   "source": []
  },
  {
   "cell_type": "code",
   "execution_count": null,
   "id": "5f44e459",
   "metadata": {},
   "outputs": [],
   "source": []
  }
 ],
 "metadata": {
  "kernelspec": {
   "display_name": "Python 3 (ipykernel)",
   "language": "python",
   "name": "python3"
  },
  "language_info": {
   "codemirror_mode": {
    "name": "ipython",
    "version": 3
   },
   "file_extension": ".py",
   "mimetype": "text/x-python",
   "name": "python",
   "nbconvert_exporter": "python",
   "pygments_lexer": "ipython3",
   "version": "3.11.3"
  }
 },
 "nbformat": 4,
 "nbformat_minor": 5
}
